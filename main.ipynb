{
 "cells": [
  {
   "cell_type": "code",
   "execution_count": null,
   "metadata": {},
   "outputs": [],
   "source": [
    "#1.serie con la duración más corta\n",
    "max_episodes=df_tvs1[\"number_of_episodes\"].max()\n",
    "series_name=df_tvs1[\"name\"][max_episodes]\n",
    "\n",
    "print(series_name + ' has '+ str(int(max_episodes)) + ' episodes')\n"
   ]
  },
  {
   "cell_type": "code",
   "execution_count": null,
   "metadata": {},
   "outputs": [],
   "source": [
    "#2.serie con menos episodios\n",
    "max_episodes=df_tvs1[\"number_of_episodes\"].min()\n",
    "series_name=df_tvs1[\"name\"][max_episodes]\n",
    "\n",
    "print(series_name + ' has '+ str(int(max_episodes)) + ' episodes')"
   ]
  },
  {
   "cell_type": "code",
   "execution_count": null,
   "metadata": {},
   "outputs": [],
   "source": [
    "\n",
    "#3.serie con mas temporadas\n",
    "max_episodes=df_tvs1[\"number_of_seasons\"].max()\n",
    "series_name=df_tvs1[\"name\"][max_episodes]\n",
    "\n",
    "print(series_name + ' has '+ str(int(max_episodes)) + ' seasons')"
   ]
  }
 ],
 "metadata": {
  "kernelspec": {
   "display_name": "Python 3 (ipykernel)",
   "language": "python",
   "name": "python3"
  },
  "language_info": {
   "codemirror_mode": {
    "name": "ipython",
    "version": 3
   },
   "file_extension": ".py",
   "mimetype": "text/x-python",
   "name": "python",
   "nbconvert_exporter": "python",
   "pygments_lexer": "ipython3",
   "version": "3.11.2"
  }
 },
 "nbformat": 4,
 "nbformat_minor": 2
}
