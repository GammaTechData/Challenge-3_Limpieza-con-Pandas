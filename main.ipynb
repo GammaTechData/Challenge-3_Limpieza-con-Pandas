{
 "cells": [
  {
   "cell_type": "code",
   "execution_count": 1,
   "metadata": {
    "scrolled": true
   },
   "outputs": [
    {
     "data": {
      "text/html": [
       "<div>\n",
       "<style scoped>\n",
       "    .dataframe tbody tr th:only-of-type {\n",
       "        vertical-align: middle;\n",
       "    }\n",
       "\n",
       "    .dataframe tbody tr th {\n",
       "        vertical-align: top;\n",
       "    }\n",
       "\n",
       "    .dataframe thead th {\n",
       "        text-align: right;\n",
       "    }\n",
       "</style>\n",
       "<table border=\"1\" class=\"dataframe\">\n",
       "  <thead>\n",
       "    <tr style=\"text-align: right;\">\n",
       "      <th></th>\n",
       "      <th>_id</th>\n",
       "      <th>created_by</th>\n",
       "      <th>first_air_date</th>\n",
       "      <th>genres</th>\n",
       "      <th>id</th>\n",
       "      <th>in_production</th>\n",
       "      <th>last_air_date</th>\n",
       "      <th>name</th>\n",
       "      <th>number_of_episodes</th>\n",
       "      <th>number_of_seasons</th>\n",
       "      <th>...</th>\n",
       "      <th>original_language</th>\n",
       "      <th>original_name</th>\n",
       "      <th>overview</th>\n",
       "      <th>popularity</th>\n",
       "      <th>poster_path</th>\n",
       "      <th>production_companies</th>\n",
       "      <th>status</th>\n",
       "      <th>tagline</th>\n",
       "      <th>vote_average</th>\n",
       "      <th>vote_count</th>\n",
       "    </tr>\n",
       "  </thead>\n",
       "  <tbody>\n",
       "    <tr>\n",
       "      <th>0</th>\n",
       "      <td>6457d26c7b901e08b141869d</td>\n",
       "      <td>[]</td>\n",
       "      <td>1996-10-09</td>\n",
       "      <td>[{\"id\":35,\"name\":\"Comedy\",\"_id\":{\"$oid\":\"6457d...</td>\n",
       "      <td>13</td>\n",
       "      <td>True</td>\n",
       "      <td>2022-02-16</td>\n",
       "      <td>How do you like Wednesday?</td>\n",
       "      <td>568.0</td>\n",
       "      <td>4</td>\n",
       "      <td>...</td>\n",
       "      <td>ja</td>\n",
       "      <td>水曜どうでしょう</td>\n",
       "      <td>How do you like Wednesday? was a Japanese tele...</td>\n",
       "      <td>21.207</td>\n",
       "      <td>/i2MwS6U0XzD8ad6aS3HiTNKz8ov.jpg</td>\n",
       "      <td>[]</td>\n",
       "      <td>Returning Series</td>\n",
       "      <td>NaN</td>\n",
       "      <td>9.200</td>\n",
       "      <td>2</td>\n",
       "    </tr>\n",
       "    <tr>\n",
       "      <th>1</th>\n",
       "      <td>6457d26c7b901e08b141867a</td>\n",
       "      <td>[{\"id\":19303,\"name\":\"Kevin Smith\",\"_id\":{\"$oid...</td>\n",
       "      <td>2000-05-31</td>\n",
       "      <td>[{\"id\":16,\"name\":\"Animation\",\"_id\":{\"$oid\":\"64...</td>\n",
       "      <td>2</td>\n",
       "      <td>False</td>\n",
       "      <td>2002-12-22</td>\n",
       "      <td>Clerks</td>\n",
       "      <td>6.0</td>\n",
       "      <td>1</td>\n",
       "      <td>...</td>\n",
       "      <td>en</td>\n",
       "      <td>Clerks</td>\n",
       "      <td>The continuing adventures of store clerks Dant...</td>\n",
       "      <td>10.620</td>\n",
       "      <td>/xunXvzFlkf1GGgMkCySA9CCFumB.jpg</td>\n",
       "      <td>[{\"id\":1558,\"name\":\"Touchstone Television\",\"lo...</td>\n",
       "      <td>Canceled</td>\n",
       "      <td>NaN</td>\n",
       "      <td>6.897</td>\n",
       "      <td>78</td>\n",
       "    </tr>\n",
       "    <tr>\n",
       "      <th>2</th>\n",
       "      <td>6457d26c7b901e08b141869f</td>\n",
       "      <td>[]</td>\n",
       "      <td>2006-08-20</td>\n",
       "      <td>[{\"id\":35,\"name\":\"Comedy\",\"_id\":{\"$oid\":\"6457d...</td>\n",
       "      <td>14</td>\n",
       "      <td>False</td>\n",
       "      <td>2006-11-11</td>\n",
       "      <td>Shuriken School</td>\n",
       "      <td>26.0</td>\n",
       "      <td>1</td>\n",
       "      <td>...</td>\n",
       "      <td>en</td>\n",
       "      <td>Shuriken School</td>\n",
       "      <td>Shuriken School is a British animated series t...</td>\n",
       "      <td>3.034</td>\n",
       "      <td>/khXHvYKAvGqjtnKoLVYZr8r5yKD.jpg</td>\n",
       "      <td>[{\"id\":75257,\"name\":\"Zinkia Entertainment\",\"lo...</td>\n",
       "      <td>Ended</td>\n",
       "      <td>NaN</td>\n",
       "      <td>5.500</td>\n",
       "      <td>6</td>\n",
       "    </tr>\n",
       "    <tr>\n",
       "      <th>3</th>\n",
       "      <td>6457d26c7b901e08b14186a5</td>\n",
       "      <td>[{\"id\":1074129,\"name\":\"Fred Rogers\",\"_id\":{\"$o...</td>\n",
       "      <td>1968-02-19</td>\n",
       "      <td>[{\"id\":10762,\"name\":\"Kids\",\"_id\":{\"$oid\":\"6457...</td>\n",
       "      <td>15</td>\n",
       "      <td>False</td>\n",
       "      <td>2001-09-07</td>\n",
       "      <td>Mister Rogers' Neighborhood</td>\n",
       "      <td>850.0</td>\n",
       "      <td>31</td>\n",
       "      <td>...</td>\n",
       "      <td>en</td>\n",
       "      <td>Mister Rogers' Neighborhood</td>\n",
       "      <td>Mister Rogers' Neighborhood is an American chi...</td>\n",
       "      <td>19.167</td>\n",
       "      <td>/4Gz46uJg6MFaM4xeblbVNSxCyTr.jpg</td>\n",
       "      <td>[{\"id\":16021,\"name\":\"WQED\",\"logo_path\":\"/2bjAi...</td>\n",
       "      <td>Ended</td>\n",
       "      <td>Won't you be my neighbor?</td>\n",
       "      <td>4.977</td>\n",
       "      <td>88</td>\n",
       "    </tr>\n",
       "    <tr>\n",
       "      <th>4</th>\n",
       "      <td>6457d26c7b901e08b14186ab</td>\n",
       "      <td>[{\"id\":1211910,\"name\":\"Richard R. Lee\",\"_id\":{...</td>\n",
       "      <td>NaN</td>\n",
       "      <td>[]</td>\n",
       "      <td>16</td>\n",
       "      <td>False</td>\n",
       "      <td>2005-09-09</td>\n",
       "      <td>Sidewalks: Video Nite</td>\n",
       "      <td>399.0</td>\n",
       "      <td>11</td>\n",
       "      <td>...</td>\n",
       "      <td>en</td>\n",
       "      <td>Sidewalks: Video Nite</td>\n",
       "      <td>Sidewalks: Video Nite is an American televisio...</td>\n",
       "      <td>2.910</td>\n",
       "      <td>NaN</td>\n",
       "      <td>[]</td>\n",
       "      <td>Ended</td>\n",
       "      <td>NaN</td>\n",
       "      <td>0.000</td>\n",
       "      <td>0</td>\n",
       "    </tr>\n",
       "    <tr>\n",
       "      <th>...</th>\n",
       "      <td>...</td>\n",
       "      <td>...</td>\n",
       "      <td>...</td>\n",
       "      <td>...</td>\n",
       "      <td>...</td>\n",
       "      <td>...</td>\n",
       "      <td>...</td>\n",
       "      <td>...</td>\n",
       "      <td>...</td>\n",
       "      <td>...</td>\n",
       "      <td>...</td>\n",
       "      <td>...</td>\n",
       "      <td>...</td>\n",
       "      <td>...</td>\n",
       "      <td>...</td>\n",
       "      <td>...</td>\n",
       "      <td>...</td>\n",
       "      <td>...</td>\n",
       "      <td>...</td>\n",
       "      <td>...</td>\n",
       "      <td>...</td>\n",
       "    </tr>\n",
       "    <tr>\n",
       "      <th>150797</th>\n",
       "      <td>645c00b1378e4a37f5092e21</td>\n",
       "      <td>[]</td>\n",
       "      <td>2015-06-12</td>\n",
       "      <td>[{\"id\":99,\"name\":\"Documentary\",\"_id\":{\"$oid\":\"...</td>\n",
       "      <td>226231</td>\n",
       "      <td>False</td>\n",
       "      <td>2015-06-13</td>\n",
       "      <td>北京之夜</td>\n",
       "      <td>4.0</td>\n",
       "      <td>1</td>\n",
       "      <td>...</td>\n",
       "      <td>zh</td>\n",
       "      <td>北京之夜</td>\n",
       "      <td>NaN</td>\n",
       "      <td>0.000</td>\n",
       "      <td>NaN</td>\n",
       "      <td>[]</td>\n",
       "      <td>Ended</td>\n",
       "      <td>NaN</td>\n",
       "      <td>0.000</td>\n",
       "      <td>0</td>\n",
       "    </tr>\n",
       "    <tr>\n",
       "      <th>150798</th>\n",
       "      <td>645c00b1378e4a37f5092e23</td>\n",
       "      <td>[]</td>\n",
       "      <td>2014-07-29</td>\n",
       "      <td>[{\"id\":99,\"name\":\"Documentary\",\"_id\":{\"$oid\":\"...</td>\n",
       "      <td>226232</td>\n",
       "      <td>False</td>\n",
       "      <td>2014-09-02</td>\n",
       "      <td>北洋海军兴亡史</td>\n",
       "      <td>6.0</td>\n",
       "      <td>1</td>\n",
       "      <td>...</td>\n",
       "      <td>zh</td>\n",
       "      <td>北洋海军兴亡史</td>\n",
       "      <td>NaN</td>\n",
       "      <td>0.000</td>\n",
       "      <td>/rcNz0Amku0XWOC3LuLfRHiKYqS3.jpg</td>\n",
       "      <td>[]</td>\n",
       "      <td>Ended</td>\n",
       "      <td>NaN</td>\n",
       "      <td>0.000</td>\n",
       "      <td>0</td>\n",
       "    </tr>\n",
       "    <tr>\n",
       "      <th>150799</th>\n",
       "      <td>645c00b1378e4a37f5092e25</td>\n",
       "      <td>[]</td>\n",
       "      <td>2023-05-09</td>\n",
       "      <td>[]</td>\n",
       "      <td>226233</td>\n",
       "      <td>True</td>\n",
       "      <td>2023-05-09</td>\n",
       "      <td>Turkey: Empire of Erdogan</td>\n",
       "      <td>1.0</td>\n",
       "      <td>1</td>\n",
       "      <td>...</td>\n",
       "      <td>en</td>\n",
       "      <td>Turkey: Empire of Erdogan</td>\n",
       "      <td>A few months after his brutal crackdown on pro...</td>\n",
       "      <td>0.000</td>\n",
       "      <td>/l7rcVP8Q5yY4M7O6rJSstV7eIin.jpg</td>\n",
       "      <td>[]</td>\n",
       "      <td>Returning Series</td>\n",
       "      <td>NaN</td>\n",
       "      <td>0.000</td>\n",
       "      <td>0</td>\n",
       "    </tr>\n",
       "    <tr>\n",
       "      <th>150800</th>\n",
       "      <td>645c00b1378e4a37f5092e26</td>\n",
       "      <td>[]</td>\n",
       "      <td>2023-01-24</td>\n",
       "      <td>[]</td>\n",
       "      <td>226234</td>\n",
       "      <td>True</td>\n",
       "      <td>2023-01-24</td>\n",
       "      <td>Woooooo! Becoming Ric Flair</td>\n",
       "      <td>1.0</td>\n",
       "      <td>1</td>\n",
       "      <td>...</td>\n",
       "      <td>en</td>\n",
       "      <td>Woooooo! Becoming Ric Flair</td>\n",
       "      <td>Ric Flair Biography</td>\n",
       "      <td>0.000</td>\n",
       "      <td>NaN</td>\n",
       "      <td>[]</td>\n",
       "      <td>Returning Series</td>\n",
       "      <td>NaN</td>\n",
       "      <td>0.000</td>\n",
       "      <td>0</td>\n",
       "    </tr>\n",
       "    <tr>\n",
       "      <th>150801</th>\n",
       "      <td>645c00b1378e4a37f5092e27</td>\n",
       "      <td>[{\"id\":2415505,\"name\":\"Mickaël Gamrasni\",\"_id\"...</td>\n",
       "      <td>2021-09-01</td>\n",
       "      <td>[{\"id\":99,\"name\":\"Documentary\",\"_id\":{\"$oid\":\"...</td>\n",
       "      <td>226235</td>\n",
       "      <td>False</td>\n",
       "      <td>2021-09-01</td>\n",
       "      <td>La France de l'après-guerre</td>\n",
       "      <td>2.0</td>\n",
       "      <td>1</td>\n",
       "      <td>...</td>\n",
       "      <td>fr</td>\n",
       "      <td>La France de l'après-guerre</td>\n",
       "      <td>NaN</td>\n",
       "      <td>0.000</td>\n",
       "      <td>/38ojnsCCzR720oPRm61tTeIZmnb.jpg</td>\n",
       "      <td>[{\"id\":91242,\"name\":\"Nilaya Productions\",\"logo...</td>\n",
       "      <td>Ended</td>\n",
       "      <td>NaN</td>\n",
       "      <td>8.000</td>\n",
       "      <td>1</td>\n",
       "    </tr>\n",
       "  </tbody>\n",
       "</table>\n",
       "<p>150802 rows × 21 columns</p>\n",
       "</div>"
      ],
      "text/plain": [
       "                             _id  \\\n",
       "0       6457d26c7b901e08b141869d   \n",
       "1       6457d26c7b901e08b141867a   \n",
       "2       6457d26c7b901e08b141869f   \n",
       "3       6457d26c7b901e08b14186a5   \n",
       "4       6457d26c7b901e08b14186ab   \n",
       "...                          ...   \n",
       "150797  645c00b1378e4a37f5092e21   \n",
       "150798  645c00b1378e4a37f5092e23   \n",
       "150799  645c00b1378e4a37f5092e25   \n",
       "150800  645c00b1378e4a37f5092e26   \n",
       "150801  645c00b1378e4a37f5092e27   \n",
       "\n",
       "                                               created_by first_air_date  \\\n",
       "0                                                      []     1996-10-09   \n",
       "1       [{\"id\":19303,\"name\":\"Kevin Smith\",\"_id\":{\"$oid...     2000-05-31   \n",
       "2                                                      []     2006-08-20   \n",
       "3       [{\"id\":1074129,\"name\":\"Fred Rogers\",\"_id\":{\"$o...     1968-02-19   \n",
       "4       [{\"id\":1211910,\"name\":\"Richard R. Lee\",\"_id\":{...            NaN   \n",
       "...                                                   ...            ...   \n",
       "150797                                                 []     2015-06-12   \n",
       "150798                                                 []     2014-07-29   \n",
       "150799                                                 []     2023-05-09   \n",
       "150800                                                 []     2023-01-24   \n",
       "150801  [{\"id\":2415505,\"name\":\"Mickaël Gamrasni\",\"_id\"...     2021-09-01   \n",
       "\n",
       "                                                   genres      id  \\\n",
       "0       [{\"id\":35,\"name\":\"Comedy\",\"_id\":{\"$oid\":\"6457d...      13   \n",
       "1       [{\"id\":16,\"name\":\"Animation\",\"_id\":{\"$oid\":\"64...       2   \n",
       "2       [{\"id\":35,\"name\":\"Comedy\",\"_id\":{\"$oid\":\"6457d...      14   \n",
       "3       [{\"id\":10762,\"name\":\"Kids\",\"_id\":{\"$oid\":\"6457...      15   \n",
       "4                                                      []      16   \n",
       "...                                                   ...     ...   \n",
       "150797  [{\"id\":99,\"name\":\"Documentary\",\"_id\":{\"$oid\":\"...  226231   \n",
       "150798  [{\"id\":99,\"name\":\"Documentary\",\"_id\":{\"$oid\":\"...  226232   \n",
       "150799                                                 []  226233   \n",
       "150800                                                 []  226234   \n",
       "150801  [{\"id\":99,\"name\":\"Documentary\",\"_id\":{\"$oid\":\"...  226235   \n",
       "\n",
       "        in_production last_air_date                         name  \\\n",
       "0                True    2022-02-16   How do you like Wednesday?   \n",
       "1               False    2002-12-22                       Clerks   \n",
       "2               False    2006-11-11              Shuriken School   \n",
       "3               False    2001-09-07  Mister Rogers' Neighborhood   \n",
       "4               False    2005-09-09        Sidewalks: Video Nite   \n",
       "...               ...           ...                          ...   \n",
       "150797          False    2015-06-13                         北京之夜   \n",
       "150798          False    2014-09-02                      北洋海军兴亡史   \n",
       "150799           True    2023-05-09    Turkey: Empire of Erdogan   \n",
       "150800           True    2023-01-24  Woooooo! Becoming Ric Flair   \n",
       "150801          False    2021-09-01  La France de l'après-guerre   \n",
       "\n",
       "        number_of_episodes  number_of_seasons  ... original_language  \\\n",
       "0                    568.0                  4  ...                ja   \n",
       "1                      6.0                  1  ...                en   \n",
       "2                     26.0                  1  ...                en   \n",
       "3                    850.0                 31  ...                en   \n",
       "4                    399.0                 11  ...                en   \n",
       "...                    ...                ...  ...               ...   \n",
       "150797                 4.0                  1  ...                zh   \n",
       "150798                 6.0                  1  ...                zh   \n",
       "150799                 1.0                  1  ...                en   \n",
       "150800                 1.0                  1  ...                en   \n",
       "150801                 2.0                  1  ...                fr   \n",
       "\n",
       "                      original_name  \\\n",
       "0                          水曜どうでしょう   \n",
       "1                            Clerks   \n",
       "2                   Shuriken School   \n",
       "3       Mister Rogers' Neighborhood   \n",
       "4             Sidewalks: Video Nite   \n",
       "...                             ...   \n",
       "150797                         北京之夜   \n",
       "150798                      北洋海军兴亡史   \n",
       "150799    Turkey: Empire of Erdogan   \n",
       "150800  Woooooo! Becoming Ric Flair   \n",
       "150801  La France de l'après-guerre   \n",
       "\n",
       "                                                 overview popularity  \\\n",
       "0       How do you like Wednesday? was a Japanese tele...     21.207   \n",
       "1       The continuing adventures of store clerks Dant...     10.620   \n",
       "2       Shuriken School is a British animated series t...      3.034   \n",
       "3       Mister Rogers' Neighborhood is an American chi...     19.167   \n",
       "4       Sidewalks: Video Nite is an American televisio...      2.910   \n",
       "...                                                   ...        ...   \n",
       "150797                                                NaN      0.000   \n",
       "150798                                                NaN      0.000   \n",
       "150799  A few months after his brutal crackdown on pro...      0.000   \n",
       "150800                                Ric Flair Biography      0.000   \n",
       "150801                                                NaN      0.000   \n",
       "\n",
       "                             poster_path  \\\n",
       "0       /i2MwS6U0XzD8ad6aS3HiTNKz8ov.jpg   \n",
       "1       /xunXvzFlkf1GGgMkCySA9CCFumB.jpg   \n",
       "2       /khXHvYKAvGqjtnKoLVYZr8r5yKD.jpg   \n",
       "3       /4Gz46uJg6MFaM4xeblbVNSxCyTr.jpg   \n",
       "4                                    NaN   \n",
       "...                                  ...   \n",
       "150797                               NaN   \n",
       "150798  /rcNz0Amku0XWOC3LuLfRHiKYqS3.jpg   \n",
       "150799  /l7rcVP8Q5yY4M7O6rJSstV7eIin.jpg   \n",
       "150800                               NaN   \n",
       "150801  /38ojnsCCzR720oPRm61tTeIZmnb.jpg   \n",
       "\n",
       "                                     production_companies            status  \\\n",
       "0                                                      []  Returning Series   \n",
       "1       [{\"id\":1558,\"name\":\"Touchstone Television\",\"lo...          Canceled   \n",
       "2       [{\"id\":75257,\"name\":\"Zinkia Entertainment\",\"lo...             Ended   \n",
       "3       [{\"id\":16021,\"name\":\"WQED\",\"logo_path\":\"/2bjAi...             Ended   \n",
       "4                                                      []             Ended   \n",
       "...                                                   ...               ...   \n",
       "150797                                                 []             Ended   \n",
       "150798                                                 []             Ended   \n",
       "150799                                                 []  Returning Series   \n",
       "150800                                                 []  Returning Series   \n",
       "150801  [{\"id\":91242,\"name\":\"Nilaya Productions\",\"logo...             Ended   \n",
       "\n",
       "                          tagline vote_average  vote_count  \n",
       "0                             NaN        9.200           2  \n",
       "1                             NaN        6.897          78  \n",
       "2                             NaN        5.500           6  \n",
       "3       Won't you be my neighbor?        4.977          88  \n",
       "4                             NaN        0.000           0  \n",
       "...                           ...          ...         ...  \n",
       "150797                        NaN        0.000           0  \n",
       "150798                        NaN        0.000           0  \n",
       "150799                        NaN        0.000           0  \n",
       "150800                        NaN        0.000           0  \n",
       "150801                        NaN        8.000           1  \n",
       "\n",
       "[150802 rows x 21 columns]"
      ]
     },
     "execution_count": 1,
     "metadata": {},
     "output_type": "execute_result"
    }
   ],
   "source": [
    "# TU LIMPIEZA Y ANÁLISIS AQUÍ\n",
    "\n",
    "import pandas as pd\n",
    "import seaborn as sns\n",
    "import numpy as np\n",
    "\n",
    "tv_df = pd.read_csv('tvs.csv')\n",
    "\n",
    "tv_df\n"
   ]
  },
  {
   "cell_type": "code",
   "execution_count": 2,
   "metadata": {},
   "outputs": [
    {
     "name": "stdout",
     "output_type": "stream",
     "text": [
      "<class 'pandas.core.frame.DataFrame'>\n",
      "RangeIndex: 150802 entries, 0 to 150801\n",
      "Data columns (total 21 columns):\n",
      " #   Column                Non-Null Count   Dtype  \n",
      "---  ------                --------------   -----  \n",
      " 0   _id                   150802 non-null  object \n",
      " 1   created_by            150802 non-null  object \n",
      " 2   first_air_date        119932 non-null  object \n",
      " 3   genres                150802 non-null  object \n",
      " 4   id                    150802 non-null  int64  \n",
      " 5   in_production         150802 non-null  bool   \n",
      " 6   last_air_date         122108 non-null  object \n",
      " 7   name                  150796 non-null  object \n",
      " 8   number_of_episodes    150168 non-null  float64\n",
      " 9   number_of_seasons     150802 non-null  int64  \n",
      " 10  origin_country        150802 non-null  object \n",
      " 11  original_language     150802 non-null  object \n",
      " 12  original_name         150796 non-null  object \n",
      " 13  overview              84623 non-null   object \n",
      " 14  popularity            150802 non-null  float64\n",
      " 15  poster_path           94927 non-null   object \n",
      " 16  production_companies  150802 non-null  object \n",
      " 17  status                150802 non-null  object \n",
      " 18  tagline               4564 non-null    object \n",
      " 19  vote_average          150802 non-null  float64\n",
      " 20  vote_count            150802 non-null  int64  \n",
      "dtypes: bool(1), float64(3), int64(3), object(14)\n",
      "memory usage: 23.2+ MB\n"
     ]
    }
   ],
   "source": [
    "tv_df.info()"
   ]
  },
  {
   "cell_type": "code",
   "execution_count": 3,
   "metadata": {
    "scrolled": true
   },
   "outputs": [
    {
     "data": {
      "text/plain": [
       "_id                          0\n",
       "created_by                   0\n",
       "first_air_date           30870\n",
       "genres                       0\n",
       "id                           0\n",
       "in_production                0\n",
       "last_air_date            28694\n",
       "name                         6\n",
       "number_of_episodes         634\n",
       "number_of_seasons            0\n",
       "origin_country               0\n",
       "original_language            0\n",
       "original_name                6\n",
       "overview                 66179\n",
       "popularity                   0\n",
       "poster_path              55875\n",
       "production_companies         0\n",
       "status                       0\n",
       "tagline                 146238\n",
       "vote_average                 0\n",
       "vote_count                   0\n",
       "dtype: int64"
      ]
     },
     "execution_count": 3,
     "metadata": {},
     "output_type": "execute_result"
    }
   ],
   "source": [
    "tv_df.isnull().sum()"
   ]
  },
  {
   "cell_type": "code",
   "execution_count": 4,
   "metadata": {},
   "outputs": [
    {
     "data": {
      "text/plain": [
       "_id                          0\n",
       "created_by                   0\n",
       "first_air_date           30870\n",
       "genres                       0\n",
       "id                           0\n",
       "in_production                0\n",
       "last_air_date            28694\n",
       "name                         6\n",
       "number_of_episodes         634\n",
       "number_of_seasons            0\n",
       "origin_country               0\n",
       "original_language            0\n",
       "original_name                6\n",
       "overview                 66179\n",
       "popularity                   0\n",
       "poster_path              55875\n",
       "production_companies         0\n",
       "status                       0\n",
       "tagline                 146238\n",
       "vote_average                 0\n",
       "vote_count                   0\n",
       "dtype: int64"
      ]
     },
     "execution_count": 4,
     "metadata": {},
     "output_type": "execute_result"
    }
   ],
   "source": [
    "tv_df.isna().sum()"
   ]
  },
  {
   "cell_type": "code",
   "execution_count": 5,
   "metadata": {},
   "outputs": [
    {
     "data": {
      "text/plain": [
       "150802"
      ]
     },
     "execution_count": 5,
     "metadata": {},
     "output_type": "execute_result"
    }
   ],
   "source": [
    "tv_df.shape[0]"
   ]
  },
  {
   "cell_type": "code",
   "execution_count": 6,
   "metadata": {},
   "outputs": [
    {
     "name": "stdout",
     "output_type": "stream",
     "text": [
      "La columna 'poster_path' se ha eliminado del DataFrame.\n",
      "La columna 'tagline' se ha eliminado del DataFrame.\n",
      "La columna 'overview' se ha eliminado del DataFrame.\n"
     ]
    }
   ],
   "source": [
    "import cleaning as cl\n",
    "\n",
    "# Aplicar la función de limpieza a lo largo de las filas y crear nuevas columnas con datos limpios\n",
    "tv_df[\"new_genres\"] = tv_df.apply(cl.limpiar_genero, axis=1)\n",
    "tv_df[\"new_creator\"] = tv_df.apply(cl.limpiar_creador, axis=1)\n",
    "tv_df[\"new_prductora\"] = tv_df.apply(cl.limpiar_productora, axis=1)\n",
    "\n",
    "#borrar columnas que no interesan\n",
    "cl.borrar_columna(tv_df,\"poster_path\")\n",
    "cl.borrar_columna(tv_df,\"tagline\")\n",
    "cl.borrar_columna(tv_df,\"overview\")\n",
    "\n",
    "#he considerado que las filas con name == NAN no deberian entrar en el análisis\n",
    "cl.limpiar_filas_nan(tv_df, \"name\")\n",
    "cl.limpiar_filas_nan(tv_df, \"number_of_episodes\")\n",
    "\n",
    "#remplazar nans por valores más bonitos\n",
    "cl.reemplazar_nan(tv_df, \"number_of_episodes\", \"sin informacion\")\n",
    "cl.reemplazar_nan(tv_df, \"first_air_date\", \"sin informacion\")\n",
    "cl.reemplazar_nan(tv_df, \"last_air_date\", \"no ha terminado\")\n"
   ]
  },
  {
   "cell_type": "code",
   "execution_count": 7,
   "metadata": {
    "scrolled": true
   },
   "outputs": [],
   "source": [
    "df_limpio = tv_df[[\"_id\", \"first_air_date\", \"id\", \"in_production\", \"last_air_date\", \"name\", \"number_of_episodes\", \"number_of_seasons\",\"original_language\", \"popularity\", \"status\", \"vote_count\", \"new_genres\", \"new_creator\", \"new_prductora\"]]\n",
    "\n",
    "df_limpio.to_csv(r'clean_data.csv', index=False)"
   ]
  },
  {
   "cell_type": "code",
   "execution_count": 8,
   "metadata": {
    "scrolled": true
   },
   "outputs": [
    {
     "name": "stdout",
     "output_type": "stream",
     "text": [
      "<class 'pandas.core.frame.DataFrame'>\n",
      "Int64Index: 150162 entries, 0 to 150801\n",
      "Data columns (total 15 columns):\n",
      " #   Column              Non-Null Count   Dtype  \n",
      "---  ------              --------------   -----  \n",
      " 0   _id                 150162 non-null  object \n",
      " 1   first_air_date      150162 non-null  object \n",
      " 2   id                  150162 non-null  int64  \n",
      " 3   in_production       150162 non-null  bool   \n",
      " 4   last_air_date       150162 non-null  object \n",
      " 5   name                150162 non-null  object \n",
      " 6   number_of_episodes  150162 non-null  float64\n",
      " 7   number_of_seasons   150162 non-null  int64  \n",
      " 8   original_language   150162 non-null  object \n",
      " 9   popularity          150162 non-null  float64\n",
      " 10  status              150162 non-null  object \n",
      " 11  vote_count          150162 non-null  int64  \n",
      " 12  new_genres          150162 non-null  object \n",
      " 13  new_creator         150162 non-null  object \n",
      " 14  new_prductora       150162 non-null  object \n",
      "dtypes: bool(1), float64(2), int64(3), object(9)\n",
      "memory usage: 17.3+ MB\n"
     ]
    }
   ],
   "source": [
    "df_limpio.info()"
   ]
  },
  {
   "cell_type": "code",
   "execution_count": 9,
   "metadata": {
    "scrolled": true
   },
   "outputs": [
    {
     "data": {
      "text/plain": [
       "_id                   0\n",
       "first_air_date        0\n",
       "id                    0\n",
       "in_production         0\n",
       "last_air_date         0\n",
       "name                  0\n",
       "number_of_episodes    0\n",
       "number_of_seasons     0\n",
       "original_language     0\n",
       "popularity            0\n",
       "status                0\n",
       "vote_count            0\n",
       "new_genres            0\n",
       "new_creator           0\n",
       "new_prductora         0\n",
       "dtype: int64"
      ]
     },
     "execution_count": 9,
     "metadata": {},
     "output_type": "execute_result"
    }
   ],
   "source": [
    "df_limpio.isna().sum()"
   ]
  },
  {
   "cell_type": "markdown",
   "metadata": {},
   "source": [
    "### PREGUNTAS"
   ]
  },
  {
   "cell_type": "code",
   "execution_count": 10,
   "metadata": {},
   "outputs": [
    {
     "data": {
      "text/plain": [
       "0.0       24304\n",
       "1.0       21880\n",
       "6.0        8514\n",
       "8.0        6270\n",
       "4.0        6019\n",
       "          ...  \n",
       "3269.0        1\n",
       "1906.0        1\n",
       "1434.0        1\n",
       "3656.0        1\n",
       "455.0         1\n",
       "Name: number_of_episodes, Length: 933, dtype: int64"
      ]
     },
     "execution_count": 10,
     "metadata": {},
     "output_type": "execute_result"
    }
   ],
   "source": [
    "#1 ¿Cual es la serie con la duración más corta?\n",
    "\n",
    "df_limpio.number_of_episodes.value_counts()\n",
    "#Hay muchos con 0 episodios. O 1 episodio\n"
   ]
  },
  {
   "cell_type": "code",
   "execution_count": 11,
   "metadata": {},
   "outputs": [
    {
     "data": {
      "text/plain": [
       "82482    Tagesschau\n",
       "Name: name, dtype: object"
      ]
     },
     "execution_count": 11,
     "metadata": {},
     "output_type": "execute_result"
    }
   ],
   "source": [
    "#2. ¿Cual es la serie con la duración más larga?\n",
    "\n",
    "df_limpio['name'][df_limpio.number_of_episodes==df_limpio.number_of_episodes.max()]"
   ]
  },
  {
   "cell_type": "code",
   "execution_count": 12,
   "metadata": {},
   "outputs": [
    {
     "data": {
      "text/html": [
       "<div>\n",
       "<style scoped>\n",
       "    .dataframe tbody tr th:only-of-type {\n",
       "        vertical-align: middle;\n",
       "    }\n",
       "\n",
       "    .dataframe tbody tr th {\n",
       "        vertical-align: top;\n",
       "    }\n",
       "\n",
       "    .dataframe thead th {\n",
       "        text-align: right;\n",
       "    }\n",
       "</style>\n",
       "<table border=\"1\" class=\"dataframe\">\n",
       "  <thead>\n",
       "    <tr style=\"text-align: right;\">\n",
       "      <th></th>\n",
       "      <th>name</th>\n",
       "      <th>number_of_episodes</th>\n",
       "      <th>number_of_seasons</th>\n",
       "    </tr>\n",
       "  </thead>\n",
       "  <tbody>\n",
       "    <tr>\n",
       "      <th>15769</th>\n",
       "      <td>Fuse</td>\n",
       "      <td>2518.0</td>\n",
       "      <td>345</td>\n",
       "    </tr>\n",
       "  </tbody>\n",
       "</table>\n",
       "</div>"
      ],
      "text/plain": [
       "       name  number_of_episodes  number_of_seasons\n",
       "15769  Fuse              2518.0                345"
      ]
     },
     "execution_count": 12,
     "metadata": {},
     "output_type": "execute_result"
    }
   ],
   "source": [
    "#3. ¿Cual es la serie con más temporadas? ¿Y la que tiene más capítulos?\n",
    "\n",
    "df2 = df_limpio[[\"name\", \"number_of_episodes\", \"number_of_seasons\"]][df_limpio.number_of_seasons==df_limpio.number_of_seasons.max()]\n",
    "df2"
   ]
  },
  {
   "cell_type": "code",
   "execution_count": 13,
   "metadata": {},
   "outputs": [],
   "source": [
    "#4. ¿Cual es el género más estrenado para cada mes y año?"
   ]
  },
  {
   "cell_type": "code",
   "execution_count": 14,
   "metadata": {},
   "outputs": [
    {
     "data": {
      "text/plain": [
       "new_genres\n",
       "Music                 4.289474\n",
       "Talk                  4.188131\n",
       "Reality               3.000000\n",
       "Soap                  2.921671\n",
       "News                  2.911111\n",
       "Family                2.276018\n",
       "Crime                 2.149789\n",
       "Kids                  2.139048\n",
       "Comedy                1.976452\n",
       "Western               1.938931\n",
       "Documentary           1.752753\n",
       "Action & Adventure    1.439024\n",
       "Animation             1.305151\n",
       "Drama                 1.287857\n",
       "Mystery               1.210909\n",
       "Sci-Fi & Fantasy      1.197895\n",
       "History               1.142857\n",
       "War & Politics        1.118421\n",
       "Sin género            1.021004\n",
       "Romance               1.000000\n",
       "Name: number_of_seasons, dtype: float64"
      ]
     },
     "execution_count": 14,
     "metadata": {},
     "output_type": "execute_result"
    }
   ],
   "source": [
    "#5. ¿Cual es la media de temporadas por género?\n",
    "\n",
    "#para evitar tener series con demasiadas temporadas he decidido mirar el promedio \n",
    "#solamente de las que son de un genero especifico\n",
    "df_sin_comas = df_limpio[~df_limpio['new_genres'].str.contains(',')]\n",
    "media_temporadas_por_genero = df_sin_comas.groupby('new_genres')['number_of_seasons'].mean()\n",
    "media_temporadas_por_genero.sort_values(ascending=False)"
   ]
  },
  {
   "cell_type": "code",
   "execution_count": 15,
   "metadata": {},
   "outputs": [
    {
     "data": {
      "text/plain": [
       "new_creator\n",
       "Khmerzoon                          105\n",
       "Shotaro Ishinomori                  64\n",
       "John de Mol                         62\n",
       "Adrián Suar                         61\n",
       "Simon Fuller                        48\n",
       "Joseph Barbera, William Hanna       46\n",
       "Yang Li-Hua                         44\n",
       "Ekta Kapoor                         42\n",
       "Mark Burnett                        36\n",
       "R.J. Nuevas                         36\n",
       "Carla Albuquerque, Beto Ribeiro     34\n",
       "dtype: int64"
      ]
     },
     "execution_count": 15,
     "metadata": {},
     "output_type": "execute_result"
    }
   ],
   "source": [
    "#6. Listado de los 10 creadores más prolíficos.\n",
    "\n",
    "creadores_prolificos = df_limpio[df_limpio['new_creator'] != 'Sin creador especificado'].value_counts('new_creator').head(11)\n",
    "creadores_prolificos"
   ]
  },
  {
   "cell_type": "code",
   "execution_count": 16,
   "metadata": {},
   "outputs": [],
   "source": [
    "#7. ¿Que género es el que más producen estos escritores?"
   ]
  },
  {
   "cell_type": "code",
   "execution_count": 17,
   "metadata": {},
   "outputs": [],
   "source": [
    "#8. ¿Cuanto duran de media *en el aire* las series? ¿Y por género?"
   ]
  },
  {
   "cell_type": "code",
   "execution_count": 18,
   "metadata": {},
   "outputs": [],
   "source": [
    "#tv_df[~tv_df['name'].notna()]"
   ]
  },
  {
   "cell_type": "markdown",
   "metadata": {},
   "source": [
    "### TRANSFORMACIONES"
   ]
  },
  {
   "cell_type": "code",
   "execution_count": 20,
   "metadata": {},
   "outputs": [
    {
     "ename": "TypeError",
     "evalue": "Cannot broadcast np.ndarray with operand of type <class 'type'>",
     "output_type": "error",
     "traceback": [
      "\u001b[0;31m---------------------------------------------------------------------------\u001b[0m",
      "\u001b[0;31mTypeError\u001b[0m                                 Traceback (most recent call last)",
      "File \u001b[0;32m~/miniconda3/lib/python3.10/site-packages/pandas/core/ops/array_ops.py:165\u001b[0m, in \u001b[0;36m_na_arithmetic_op\u001b[0;34m(left, right, op, is_cmp)\u001b[0m\n\u001b[1;32m    164\u001b[0m \u001b[38;5;28;01mtry\u001b[39;00m:\n\u001b[0;32m--> 165\u001b[0m     result \u001b[38;5;241m=\u001b[39m \u001b[43mfunc\u001b[49m\u001b[43m(\u001b[49m\u001b[43mleft\u001b[49m\u001b[43m,\u001b[49m\u001b[43m \u001b[49m\u001b[43mright\u001b[49m\u001b[43m)\u001b[49m\n\u001b[1;32m    166\u001b[0m \u001b[38;5;28;01mexcept\u001b[39;00m \u001b[38;5;167;01mTypeError\u001b[39;00m:\n",
      "File \u001b[0;32m~/miniconda3/lib/python3.10/site-packages/pandas/core/computation/expressions.py:241\u001b[0m, in \u001b[0;36mevaluate\u001b[0;34m(op, a, b, use_numexpr)\u001b[0m\n\u001b[1;32m    239\u001b[0m     \u001b[38;5;28;01mif\u001b[39;00m use_numexpr:\n\u001b[1;32m    240\u001b[0m         \u001b[38;5;66;03m# error: \"None\" not callable\u001b[39;00m\n\u001b[0;32m--> 241\u001b[0m         \u001b[38;5;28;01mreturn\u001b[39;00m \u001b[43m_evaluate\u001b[49m\u001b[43m(\u001b[49m\u001b[43mop\u001b[49m\u001b[43m,\u001b[49m\u001b[43m \u001b[49m\u001b[43mop_str\u001b[49m\u001b[43m,\u001b[49m\u001b[43m \u001b[49m\u001b[43ma\u001b[49m\u001b[43m,\u001b[49m\u001b[43m \u001b[49m\u001b[43mb\u001b[49m\u001b[43m)\u001b[49m  \u001b[38;5;66;03m# type: ignore[misc]\u001b[39;00m\n\u001b[1;32m    242\u001b[0m \u001b[38;5;28;01mreturn\u001b[39;00m _evaluate_standard(op, op_str, a, b)\n",
      "File \u001b[0;32m~/miniconda3/lib/python3.10/site-packages/pandas/core/computation/expressions.py:129\u001b[0m, in \u001b[0;36m_evaluate_numexpr\u001b[0;34m(op, op_str, a, b)\u001b[0m\n\u001b[1;32m    128\u001b[0m \u001b[38;5;28;01mif\u001b[39;00m result \u001b[38;5;129;01mis\u001b[39;00m \u001b[38;5;28;01mNone\u001b[39;00m:\n\u001b[0;32m--> 129\u001b[0m     result \u001b[38;5;241m=\u001b[39m \u001b[43m_evaluate_standard\u001b[49m\u001b[43m(\u001b[49m\u001b[43mop\u001b[49m\u001b[43m,\u001b[49m\u001b[43m \u001b[49m\u001b[43mop_str\u001b[49m\u001b[43m,\u001b[49m\u001b[43m \u001b[49m\u001b[43ma\u001b[49m\u001b[43m,\u001b[49m\u001b[43m \u001b[49m\u001b[43mb\u001b[49m\u001b[43m)\u001b[49m\n\u001b[1;32m    131\u001b[0m \u001b[38;5;28;01mreturn\u001b[39;00m result\n",
      "File \u001b[0;32m~/miniconda3/lib/python3.10/site-packages/pandas/core/computation/expressions.py:70\u001b[0m, in \u001b[0;36m_evaluate_standard\u001b[0;34m(op, op_str, a, b)\u001b[0m\n\u001b[1;32m     69\u001b[0m     _store_test_result(\u001b[38;5;28;01mFalse\u001b[39;00m)\n\u001b[0;32m---> 70\u001b[0m \u001b[38;5;28;01mreturn\u001b[39;00m \u001b[43mop\u001b[49m\u001b[43m(\u001b[49m\u001b[43ma\u001b[49m\u001b[43m,\u001b[49m\u001b[43m \u001b[49m\u001b[43mb\u001b[49m\u001b[43m)\u001b[49m\n",
      "\u001b[0;31mTypeError\u001b[0m: unsupported operand type(s) for /: 'numpy.ndarray' and 'type'",
      "\nDuring handling of the above exception, another exception occurred:\n",
      "\u001b[0;31mTypeError\u001b[0m                                 Traceback (most recent call last)",
      "Cell \u001b[0;32mIn[20], line 4\u001b[0m\n\u001b[1;32m      1\u001b[0m \u001b[38;5;66;03m#1. Crea una nueva columna llamada 'media_episodios' que el número de episodios por temporada de cada serie.\u001b[39;00m\n\u001b[1;32m      2\u001b[0m \u001b[38;5;28;01mimport\u001b[39;00m \u001b[38;5;21;01mnumpy\u001b[39;00m \u001b[38;5;28;01mas\u001b[39;00m \u001b[38;5;21;01mnp\u001b[39;00m\n\u001b[0;32m----> 4\u001b[0m df_limpio[\u001b[38;5;124m'\u001b[39m\u001b[38;5;124mmedia_episodios\u001b[39m\u001b[38;5;124m'\u001b[39m] \u001b[38;5;241m=\u001b[39m \u001b[43mdf_limpio\u001b[49m\u001b[43m[\u001b[49m\u001b[38;5;124;43m'\u001b[39;49m\u001b[38;5;124;43mnumber_of_episodes\u001b[39;49m\u001b[38;5;124;43m'\u001b[39;49m\u001b[43m]\u001b[49m\u001b[43m \u001b[49m\u001b[38;5;241;43m/\u001b[39;49m\u001b[43m \u001b[49m\u001b[38;5;28;43mtype\u001b[39;49m\u001b[43m(\u001b[49m\u001b[43mdf_limpio\u001b[49m\u001b[43m[\u001b[49m\u001b[38;5;124;43m'\u001b[39;49m\u001b[38;5;124;43mnumber_of_seasons\u001b[39;49m\u001b[38;5;124;43m'\u001b[39;49m\u001b[43m]\u001b[49m\u001b[43m)\u001b[49m\n\u001b[1;32m      6\u001b[0m \u001b[38;5;66;03m#NO FUNCIONA PORQUE?!?!?!\u001b[39;00m\n",
      "File \u001b[0;32m~/miniconda3/lib/python3.10/site-packages/pandas/core/ops/common.py:72\u001b[0m, in \u001b[0;36m_unpack_zerodim_and_defer.<locals>.new_method\u001b[0;34m(self, other)\u001b[0m\n\u001b[1;32m     68\u001b[0m             \u001b[38;5;28;01mreturn\u001b[39;00m \u001b[38;5;28mNotImplemented\u001b[39m\n\u001b[1;32m     70\u001b[0m other \u001b[38;5;241m=\u001b[39m item_from_zerodim(other)\n\u001b[0;32m---> 72\u001b[0m \u001b[38;5;28;01mreturn\u001b[39;00m \u001b[43mmethod\u001b[49m\u001b[43m(\u001b[49m\u001b[38;5;28;43mself\u001b[39;49m\u001b[43m,\u001b[49m\u001b[43m \u001b[49m\u001b[43mother\u001b[49m\u001b[43m)\u001b[49m\n",
      "File \u001b[0;32m~/miniconda3/lib/python3.10/site-packages/pandas/core/arraylike.py:126\u001b[0m, in \u001b[0;36mOpsMixin.__truediv__\u001b[0;34m(self, other)\u001b[0m\n\u001b[1;32m    124\u001b[0m \u001b[38;5;129m@unpack_zerodim_and_defer\u001b[39m(\u001b[38;5;124m\"\u001b[39m\u001b[38;5;124m__truediv__\u001b[39m\u001b[38;5;124m\"\u001b[39m)\n\u001b[1;32m    125\u001b[0m \u001b[38;5;28;01mdef\u001b[39;00m \u001b[38;5;21m__truediv__\u001b[39m(\u001b[38;5;28mself\u001b[39m, other):\n\u001b[0;32m--> 126\u001b[0m     \u001b[38;5;28;01mreturn\u001b[39;00m \u001b[38;5;28;43mself\u001b[39;49m\u001b[38;5;241;43m.\u001b[39;49m\u001b[43m_arith_method\u001b[49m\u001b[43m(\u001b[49m\u001b[43mother\u001b[49m\u001b[43m,\u001b[49m\u001b[43m \u001b[49m\u001b[43moperator\u001b[49m\u001b[38;5;241;43m.\u001b[39;49m\u001b[43mtruediv\u001b[49m\u001b[43m)\u001b[49m\n",
      "File \u001b[0;32m~/miniconda3/lib/python3.10/site-packages/pandas/core/series.py:6259\u001b[0m, in \u001b[0;36mSeries._arith_method\u001b[0;34m(self, other, op)\u001b[0m\n\u001b[1;32m   6257\u001b[0m \u001b[38;5;28;01mdef\u001b[39;00m \u001b[38;5;21m_arith_method\u001b[39m(\u001b[38;5;28mself\u001b[39m, other, op):\n\u001b[1;32m   6258\u001b[0m     \u001b[38;5;28mself\u001b[39m, other \u001b[38;5;241m=\u001b[39m ops\u001b[38;5;241m.\u001b[39malign_method_SERIES(\u001b[38;5;28mself\u001b[39m, other)\n\u001b[0;32m-> 6259\u001b[0m     \u001b[38;5;28;01mreturn\u001b[39;00m \u001b[43mbase\u001b[49m\u001b[38;5;241;43m.\u001b[39;49m\u001b[43mIndexOpsMixin\u001b[49m\u001b[38;5;241;43m.\u001b[39;49m\u001b[43m_arith_method\u001b[49m\u001b[43m(\u001b[49m\u001b[38;5;28;43mself\u001b[39;49m\u001b[43m,\u001b[49m\u001b[43m \u001b[49m\u001b[43mother\u001b[49m\u001b[43m,\u001b[49m\u001b[43m \u001b[49m\u001b[43mop\u001b[49m\u001b[43m)\u001b[49m\n",
      "File \u001b[0;32m~/miniconda3/lib/python3.10/site-packages/pandas/core/base.py:1325\u001b[0m, in \u001b[0;36mIndexOpsMixin._arith_method\u001b[0;34m(self, other, op)\u001b[0m\n\u001b[1;32m   1322\u001b[0m rvalues \u001b[38;5;241m=\u001b[39m ensure_wrapped_if_datetimelike(rvalues)\n\u001b[1;32m   1324\u001b[0m \u001b[38;5;28;01mwith\u001b[39;00m np\u001b[38;5;241m.\u001b[39merrstate(\u001b[38;5;28mall\u001b[39m\u001b[38;5;241m=\u001b[39m\u001b[38;5;124m\"\u001b[39m\u001b[38;5;124mignore\u001b[39m\u001b[38;5;124m\"\u001b[39m):\n\u001b[0;32m-> 1325\u001b[0m     result \u001b[38;5;241m=\u001b[39m \u001b[43mops\u001b[49m\u001b[38;5;241;43m.\u001b[39;49m\u001b[43marithmetic_op\u001b[49m\u001b[43m(\u001b[49m\u001b[43mlvalues\u001b[49m\u001b[43m,\u001b[49m\u001b[43m \u001b[49m\u001b[43mrvalues\u001b[49m\u001b[43m,\u001b[49m\u001b[43m \u001b[49m\u001b[43mop\u001b[49m\u001b[43m)\u001b[49m\n\u001b[1;32m   1327\u001b[0m \u001b[38;5;28;01mreturn\u001b[39;00m \u001b[38;5;28mself\u001b[39m\u001b[38;5;241m.\u001b[39m_construct_result(result, name\u001b[38;5;241m=\u001b[39mres_name)\n",
      "File \u001b[0;32m~/miniconda3/lib/python3.10/site-packages/pandas/core/ops/array_ops.py:226\u001b[0m, in \u001b[0;36marithmetic_op\u001b[0;34m(left, right, op)\u001b[0m\n\u001b[1;32m    222\u001b[0m     _bool_arith_check(op, left, right)\n\u001b[1;32m    224\u001b[0m     \u001b[38;5;66;03m# error: Argument 1 to \"_na_arithmetic_op\" has incompatible type\u001b[39;00m\n\u001b[1;32m    225\u001b[0m     \u001b[38;5;66;03m# \"Union[ExtensionArray, ndarray[Any, Any]]\"; expected \"ndarray[Any, Any]\"\u001b[39;00m\n\u001b[0;32m--> 226\u001b[0m     res_values \u001b[38;5;241m=\u001b[39m \u001b[43m_na_arithmetic_op\u001b[49m\u001b[43m(\u001b[49m\u001b[43mleft\u001b[49m\u001b[43m,\u001b[49m\u001b[43m \u001b[49m\u001b[43mright\u001b[49m\u001b[43m,\u001b[49m\u001b[43m \u001b[49m\u001b[43mop\u001b[49m\u001b[43m)\u001b[49m  \u001b[38;5;66;03m# type: ignore[arg-type]\u001b[39;00m\n\u001b[1;32m    228\u001b[0m \u001b[38;5;28;01mreturn\u001b[39;00m res_values\n",
      "File \u001b[0;32m~/miniconda3/lib/python3.10/site-packages/pandas/core/ops/array_ops.py:172\u001b[0m, in \u001b[0;36m_na_arithmetic_op\u001b[0;34m(left, right, op, is_cmp)\u001b[0m\n\u001b[1;32m    166\u001b[0m \u001b[38;5;28;01mexcept\u001b[39;00m \u001b[38;5;167;01mTypeError\u001b[39;00m:\n\u001b[1;32m    167\u001b[0m     \u001b[38;5;28;01mif\u001b[39;00m \u001b[38;5;129;01mnot\u001b[39;00m is_cmp \u001b[38;5;129;01mand\u001b[39;00m (is_object_dtype(left\u001b[38;5;241m.\u001b[39mdtype) \u001b[38;5;129;01mor\u001b[39;00m is_object_dtype(right)):\n\u001b[1;32m    168\u001b[0m         \u001b[38;5;66;03m# For object dtype, fallback to a masked operation (only operating\u001b[39;00m\n\u001b[1;32m    169\u001b[0m         \u001b[38;5;66;03m#  on the non-missing values)\u001b[39;00m\n\u001b[1;32m    170\u001b[0m         \u001b[38;5;66;03m# Don't do this for comparisons, as that will handle complex numbers\u001b[39;00m\n\u001b[1;32m    171\u001b[0m         \u001b[38;5;66;03m#  incorrectly, see GH#32047\u001b[39;00m\n\u001b[0;32m--> 172\u001b[0m         result \u001b[38;5;241m=\u001b[39m \u001b[43m_masked_arith_op\u001b[49m\u001b[43m(\u001b[49m\u001b[43mleft\u001b[49m\u001b[43m,\u001b[49m\u001b[43m \u001b[49m\u001b[43mright\u001b[49m\u001b[43m,\u001b[49m\u001b[43m \u001b[49m\u001b[43mop\u001b[49m\u001b[43m)\u001b[49m\n\u001b[1;32m    173\u001b[0m     \u001b[38;5;28;01melse\u001b[39;00m:\n\u001b[1;32m    174\u001b[0m         \u001b[38;5;28;01mraise\u001b[39;00m\n",
      "File \u001b[0;32m~/miniconda3/lib/python3.10/site-packages/pandas/core/ops/array_ops.py:114\u001b[0m, in \u001b[0;36m_masked_arith_op\u001b[0;34m(x, y, op)\u001b[0m\n\u001b[1;32m    112\u001b[0m \u001b[38;5;28;01melse\u001b[39;00m:\n\u001b[1;32m    113\u001b[0m     \u001b[38;5;28;01mif\u001b[39;00m \u001b[38;5;129;01mnot\u001b[39;00m is_scalar(y):\n\u001b[0;32m--> 114\u001b[0m         \u001b[38;5;28;01mraise\u001b[39;00m \u001b[38;5;167;01mTypeError\u001b[39;00m(\n\u001b[1;32m    115\u001b[0m             \u001b[38;5;124mf\u001b[39m\u001b[38;5;124m\"\u001b[39m\u001b[38;5;124mCannot broadcast np.ndarray with operand of type \u001b[39m\u001b[38;5;132;01m{\u001b[39;00m\u001b[38;5;250m \u001b[39m\u001b[38;5;28mtype\u001b[39m(y)\u001b[38;5;250m \u001b[39m\u001b[38;5;132;01m}\u001b[39;00m\u001b[38;5;124m\"\u001b[39m\n\u001b[1;32m    116\u001b[0m         )\n\u001b[1;32m    118\u001b[0m     \u001b[38;5;66;03m# mask is only meaningful for x\u001b[39;00m\n\u001b[1;32m    119\u001b[0m     result \u001b[38;5;241m=\u001b[39m np\u001b[38;5;241m.\u001b[39mempty(x\u001b[38;5;241m.\u001b[39msize, dtype\u001b[38;5;241m=\u001b[39mx\u001b[38;5;241m.\u001b[39mdtype)\n",
      "\u001b[0;31mTypeError\u001b[0m: Cannot broadcast np.ndarray with operand of type <class 'type'>"
     ]
    }
   ],
   "source": [
    "#1. Crea una nueva columna llamada 'media_episodios' que el número de episodios por temporada de cada serie.\n",
    "import numpy as np\n",
    "\n",
    "df_limpio['media_episodios'] = df_limpio['number_of_episodes'] / type(df_limpio['number_of_seasons'])\n",
    "\n",
    "#NO FUNCIONA PORQUE?!?!?!"
   ]
  },
  {
   "cell_type": "code",
   "execution_count": 21,
   "metadata": {},
   "outputs": [
    {
     "name": "stderr",
     "output_type": "stream",
     "text": [
      "/tmp/ipykernel_2331/732743746.py:3: SettingWithCopyWarning: \n",
      "A value is trying to be set on a copy of a slice from a DataFrame.\n",
      "Try using .loc[row_indexer,col_indexer] = value instead\n",
      "\n",
      "See the caveats in the documentation: https://pandas.pydata.org/pandas-docs/stable/user_guide/indexing.html#returning-a-view-versus-a-copy\n",
      "  df_limpio['habla_inglesa'] = (df_limpio['original_language'] == 'en')\n"
     ]
    }
   ],
   "source": [
    "# 2. Crea una nueva columna llamada 'habla_inglesa' que indique si la serie está en inglés o no.\n",
    "\n",
    "df_limpio['habla_inglesa'] = (df_limpio['original_language'] == 'en')\n",
    "\n",
    "#NO FUNCIONA PORQUE?!?!?!"
   ]
  },
  {
   "cell_type": "code",
   "execution_count": 22,
   "metadata": {},
   "outputs": [
    {
     "name": "stderr",
     "output_type": "stream",
     "text": [
      "/tmp/ipykernel_2331/2765054943.py:7: SettingWithCopyWarning: \n",
      "A value is trying to be set on a copy of a slice from a DataFrame.\n",
      "Try using .loc[row_indexer,col_indexer] = value instead\n",
      "\n",
      "See the caveats in the documentation: https://pandas.pydata.org/pandas-docs/stable/user_guide/indexing.html#returning-a-view-versus-a-copy\n",
      "  df_limpio['produccion_europea'] = df_limpio['original_language'].isin(codigos_europeos)\n"
     ]
    }
   ],
   "source": [
    "#3. Crear una nueva columna llamada 'produccion_europea' que indique si la serie es de producción europea o no.\n",
    "\n",
    "# Lista de códigos de idioma correspondientes a países europeos\n",
    "codigos_europeos = ['en', 'fr', 'de', 'es', 'it', 'pt', 'nl', 'sv', 'da', 'fi', 'no', 'pl', 'ru', 'tr', 'el', 'hu']\n",
    "\n",
    "# Crear la nueva columna 'produccion_europea'\n",
    "df_limpio['produccion_europea'] = df_limpio['original_language'].isin(codigos_europeos)\n",
    "\n",
    "#NO FUNCIONA PORQUE?!?!?!"
   ]
  },
  {
   "cell_type": "code",
   "execution_count": null,
   "metadata": {},
   "outputs": [],
   "source": [
    "#4. Crea una nueva columna llamada 'mes_cancelacion' que indique el mes en el que se canceló la serie."
   ]
  }
 ],
 "metadata": {
  "kernelspec": {
   "display_name": "Python 3 (ipykernel)",
   "language": "python",
   "name": "python3"
  },
  "language_info": {
   "codemirror_mode": {
    "name": "ipython",
    "version": 3
   },
   "file_extension": ".py",
   "mimetype": "text/x-python",
   "name": "python",
   "nbconvert_exporter": "python",
   "pygments_lexer": "ipython3",
   "version": "3.10.9"
  }
 },
 "nbformat": 4,
 "nbformat_minor": 2
}
